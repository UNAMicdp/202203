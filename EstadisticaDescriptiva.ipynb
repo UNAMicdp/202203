{
 "cells": [
  {
   "cell_type": "markdown",
   "id": "67912104-5713-4e43-963f-f4d502e18b83",
   "metadata": {},
   "source": [
    "# Estadística descriptiva\n",
    "Uso de Python (Pandas) para hacer estadística descriptiva"
   ]
  },
  {
   "cell_type": "markdown",
   "id": "a15643e7-749c-4a25-a4c4-d3a7633d0d2b",
   "metadata": {},
   "source": [
    "## 0. Librerías que se usarán"
   ]
  },
  {
   "cell_type": "code",
   "execution_count": null,
   "id": "daf1ea1d-7db5-468d-a811-fcbcc7dd135a",
   "metadata": {},
   "outputs": [],
   "source": [
    "import numpy as np                 # numpy\n",
    "import pandas as pd                # pandas\n",
    "import matplotlib.pyplot as plt    # matplotlib"
   ]
  },
  {
   "cell_type": "markdown",
   "id": "55a31868-6b8d-414f-8799-ab9be3c69692",
   "metadata": {},
   "source": [
    "## 1. Carga de datos y exploración inicial"
   ]
  },
  {
   "cell_type": "markdown",
   "id": "b9ad4c28-da28-439f-b25b-2f5af24e0dbc",
   "metadata": {},
   "source": [
    "### 1.1 Carga de datos y visualización inicial ( _pandas.read_csv()_ )"
   ]
  },
  {
   "cell_type": "code",
   "execution_count": null,
   "id": "a8e153a4-b780-48de-b55b-7f58b2f34090",
   "metadata": {},
   "outputs": [],
   "source": [
    "df = pd.read_csv(\"./datosEntrada/automoviles.csv\")\n",
    "df"
   ]
  },
  {
   "cell_type": "markdown",
   "id": "2fa025f1-2921-41e2-8660-a508668805d5",
   "metadata": {},
   "source": [
    "### 1.2 Visualización de tipos de datos, nulos\n",
    "#### 1.2.1 Visualización de Tipos de datos con _dtypes_"
   ]
  },
  {
   "cell_type": "code",
   "execution_count": null,
   "id": "134bc62a-ce24-4e7b-aa14-f4385f5a75ec",
   "metadata": {},
   "outputs": [],
   "source": []
  },
  {
   "cell_type": "markdown",
   "id": "622b4f7b-e32a-44cf-9b9a-8762df98194c",
   "metadata": {},
   "source": [
    "#### 1.2.2 Cambio de tipo de datos con _astype()_"
   ]
  },
  {
   "cell_type": "code",
   "execution_count": null,
   "id": "3b49d40a-a36e-4473-9124-4c6e285b85fc",
   "metadata": {
    "tags": []
   },
   "outputs": [],
   "source": []
  },
  {
   "cell_type": "markdown",
   "id": "38147920-9bf9-4337-aff0-9832f739636c",
   "metadata": {},
   "source": [
    "#### 1.2.3 Número de valores no nulos por campo con _count()_"
   ]
  },
  {
   "cell_type": "code",
   "execution_count": null,
   "id": "cd00ced6-a7d8-47a7-9734-cae51a6ebf36",
   "metadata": {},
   "outputs": [],
   "source": []
  },
  {
   "cell_type": "markdown",
   "id": "ff439474-d32b-4b4e-a72a-436f2ec66ad6",
   "metadata": {
    "tags": []
   },
   "source": [
    "### 1.3 Descripción general\n",
    "#### 1.3.1 Uso de _describe()_ para estadísticos básicos por campo"
   ]
  },
  {
   "cell_type": "code",
   "execution_count": null,
   "id": "4c29d659-c8de-474a-89d7-9e18a0a91e47",
   "metadata": {},
   "outputs": [],
   "source": []
  },
  {
   "cell_type": "markdown",
   "id": "3a0451d1-9663-4089-a711-319650fa7848",
   "metadata": {},
   "source": [
    "## 2. Limpieza de datos\n",
    "### Nulos, Quitar columnas, Quitar registros, Cambiar valores, etc.\n",
    "#### 2.1 Eliminar columnas con _drop()_"
   ]
  },
  {
   "cell_type": "code",
   "execution_count": null,
   "id": "e75671ff-5d47-48b0-b304-2e936e6cadc2",
   "metadata": {},
   "outputs": [],
   "source": []
  },
  {
   "cell_type": "markdown",
   "id": "f144ed8a-72d6-4c80-b77f-b12fba0b28bb",
   "metadata": {},
   "source": [
    "## 3. Estadística descriptiva\n",
    "### 3.1 Tipos de datos"
   ]
  },
  {
   "cell_type": "code",
   "execution_count": null,
   "id": "0a2b0f8e-55b8-471f-9cd9-1a44586d0380",
   "metadata": {},
   "outputs": [],
   "source": []
  },
  {
   "cell_type": "markdown",
   "id": "4312caca-942d-43f3-9ac4-2305abda85e5",
   "metadata": {
    "tags": []
   },
   "source": [
    "### 3.2 Medidas de posición / tendencia central\n",
    "- Mediana _median()_\n",
    "- Media aritmética _mean()_\n",
    "- Moda _mode()_\n",
    "- Percentiles _quantile()_"
   ]
  },
  {
   "cell_type": "code",
   "execution_count": null,
   "id": "7eaed51f-282e-4579-8040-4b6ce3f9d9e4",
   "metadata": {},
   "outputs": [],
   "source": []
  },
  {
   "cell_type": "markdown",
   "id": "77c2e034-03a0-4884-b962-794e8bf90982",
   "metadata": {},
   "source": [
    "### 3.3 Medidas de dispersión\n",
    "- Mínimo _min()_\n",
    "- Máximo _max()_\n",
    "- Varianza _var()_\n",
    "- Desviación estándar _std()_"
   ]
  },
  {
   "cell_type": "code",
   "execution_count": null,
   "id": "33ac4249-8796-49e9-a655-1c3eb9da5102",
   "metadata": {},
   "outputs": [],
   "source": [
    "\n"
   ]
  },
  {
   "cell_type": "markdown",
   "id": "263fcf0f-08ef-4b67-894b-2d03b6190885",
   "metadata": {},
   "source": [
    "#### 3.3.1 Coeficiente de variación o coeficiente de variación de Pearson\n",
    "Variación con respecto a la media (si se multiplica por 100 se obtiene un porcentaje) y representa qué tan dispersos están los datos. Entre dos conjuntos de datos, el que tenga un número mayor es más disperso.\n",
    "$$\\dfrac{\\sigma}{\\bar{x}} $$"
   ]
  },
  {
   "cell_type": "code",
   "execution_count": null,
   "id": "8ef3aa1c-bd2d-4291-a07c-e20d48ce1da1",
   "metadata": {},
   "outputs": [],
   "source": []
  },
  {
   "cell_type": "markdown",
   "id": "d8744312-fcba-484e-9a92-8cfe42b23b18",
   "metadata": {},
   "source": [
    "### 3.4 Medidas de forma\n",
    "<img src=\"./imagenes/skew-wikipedia.png\" style=\"height: 200px;\"/>\n",
    "\n",
    "#### **Sesgo o Asimetría _skew()_**\n",
    "  - \\> 0 Cola a la derecha\n",
    "  - < 0 Cola a la izquierda\n",
    "  - 0  Simétrica perfecta\n",
    "  \n",
    "Tercer momento central\n"
   ]
  },
  {
   "cell_type": "code",
   "execution_count": null,
   "id": "b84f5653-a7e7-4730-bbc2-4f920f8c72d6",
   "metadata": {},
   "outputs": [],
   "source": [
    "\n"
   ]
  },
  {
   "cell_type": "markdown",
   "id": "7d6efda9-5bf0-48d3-958e-2b24b1357b48",
   "metadata": {},
   "source": [
    "#### Curtosis _kurtosis()_ y _kurt()_\n",
    "<img src=\"./imagenes/kurtosis.jpg\" style=\"height: 200px;\"/>\n",
    "\n",
    "  - \\> 0 Leptocúrtica\n",
    "  - 0  Mesocúrtica (distribución normal)\n",
    "  - <0  Platicúrtica\n",
    "Cuarto momento central"
   ]
  },
  {
   "cell_type": "code",
   "execution_count": null,
   "id": "c6fdb47e-8352-4905-8c62-2ca879a9a06b",
   "metadata": {},
   "outputs": [],
   "source": []
  },
  {
   "cell_type": "markdown",
   "id": "63297045-dacf-4e77-9bba-c292bfa8cdb7",
   "metadata": {},
   "source": [
    "## 4. Histogramas, Correlaciones, gráficas\n",
    "### 4.1 Histogramas con _hist()_"
   ]
  },
  {
   "cell_type": "code",
   "execution_count": null,
   "id": "9f427939-dd3f-4fb0-843b-dfb98fa17a4f",
   "metadata": {},
   "outputs": [],
   "source": []
  },
  {
   "cell_type": "markdown",
   "id": "851517f5-6f65-4f3a-b465-b0b24ed2282d",
   "metadata": {},
   "source": [
    "Configuración de número de divisiones (_bins_) en un histograma"
   ]
  },
  {
   "cell_type": "markdown",
   "id": "a66c75de-b870-472e-ac91-f906ac5b87e2",
   "metadata": {},
   "source": [
    "Generación de histogramas para cada variable del dataframe"
   ]
  },
  {
   "cell_type": "code",
   "execution_count": null,
   "id": "470da894-1b79-4228-af82-2b96cb525576",
   "metadata": {},
   "outputs": [],
   "source": []
  },
  {
   "cell_type": "code",
   "execution_count": null,
   "id": "cf35cbbc-253f-4d01-8898-6c145d2deec3",
   "metadata": {
    "tags": []
   },
   "outputs": [],
   "source": []
  },
  {
   "cell_type": "markdown",
   "id": "df5099f7-b731-4471-ac48-a8d98c7f18b0",
   "metadata": {},
   "source": [
    "Etiquetas en los ejes $x$ y $y$ con _set_xlabel()_, _set_ylabel() o _set()_"
   ]
  },
  {
   "cell_type": "code",
   "execution_count": null,
   "id": "f72653b6-6291-415c-a078-75d8ca04bec2",
   "metadata": {},
   "outputs": [],
   "source": []
  },
  {
   "cell_type": "markdown",
   "id": "a4869ac8-7957-4878-80f4-da2a3a182d4c",
   "metadata": {},
   "source": [
    "Histograma de valores discretos"
   ]
  },
  {
   "cell_type": "code",
   "execution_count": null,
   "id": "de91a736-fb76-4796-9798-92b7fdf1cd88",
   "metadata": {
    "tags": []
   },
   "outputs": [],
   "source": []
  },
  {
   "cell_type": "markdown",
   "id": "480719fa-335b-4383-a2e5-482feee514b9",
   "metadata": {},
   "source": [
    "### 4.2 Correlaciones\n",
    "#### 4.2.1 Diagramas de dispersión con _plot.scatter()_\n",
    "##### De dos variables"
   ]
  },
  {
   "cell_type": "code",
   "execution_count": null,
   "id": "bc369330-f860-4cce-97c5-d879adcbd3c5",
   "metadata": {
    "tags": []
   },
   "outputs": [],
   "source": []
  },
  {
   "cell_type": "markdown",
   "id": "c13ed621-6d84-4a2f-a385-6d5b31e2d65c",
   "metadata": {},
   "source": [
    "##### De TRES variables\n",
    "Ejemplos de colormap en https://matplotlib.org/stable/tutorials/colors/colormaps.html\n",
    "Configuración de ejes con _set()_"
   ]
  },
  {
   "cell_type": "code",
   "execution_count": null,
   "id": "0ebe53d3-6311-4c5b-a543-0148b2fba51d",
   "metadata": {
    "tags": []
   },
   "outputs": [],
   "source": []
  },
  {
   "cell_type": "markdown",
   "id": "e85ab7c8-3774-4e92-8538-a21caf9ee929",
   "metadata": {},
   "source": [
    "#### 4.2.2 Matriz de diagramas de dispersión con _plotting.scatter.matrix()_\n",
    "Grabado de imagen en archivo con _savefig()_"
   ]
  },
  {
   "cell_type": "code",
   "execution_count": null,
   "id": "5b3951bd-e21b-438b-ac29-ce7dee07492c",
   "metadata": {
    "tags": []
   },
   "outputs": [],
   "source": []
  },
  {
   "cell_type": "markdown",
   "id": "2141e9cd-2572-43f3-b0ca-d93a37454a99",
   "metadata": {},
   "source": [
    "#### 4.2.3 Coeficientes de correlación [-1, 0]\n",
    "- 0  No se encuentra correlación\n",
    "- 1  Directamente proporcional perfecta\n",
    "- -1 Inversamente proporcional"
   ]
  },
  {
   "cell_type": "code",
   "execution_count": null,
   "id": "4358bee6-b372-48a7-ba9b-04d259420c7b",
   "metadata": {},
   "outputs": [],
   "source": [
    "\n"
   ]
  },
  {
   "cell_type": "markdown",
   "id": "0fb7b8dd-3c37-4610-a065-388b826a87cd",
   "metadata": {},
   "source": [
    "¿Quiénes tienen mayor correlación (positiva, negativa) y quiénes menor?\n",
    "- Mayor correlación: Números cercanos al 1 (directamente proporcionales) y -1 (inversamente proporcionales)\n",
    "- Menor correlación son valores cercanos al cero (0)\n",
    "\n",
    "Considerando Precio ¿con quién tiene una mejor correlación?"
   ]
  },
  {
   "cell_type": "code",
   "execution_count": null,
   "id": "b894c585-ab7b-4c38-9a01-cf62b32f718f",
   "metadata": {},
   "outputs": [],
   "source": []
  }
 ],
 "metadata": {
  "kernelspec": {
   "display_name": "Python 3 (ipykernel)",
   "language": "python",
   "name": "python3"
  },
  "language_info": {
   "codemirror_mode": {
    "name": "ipython",
    "version": 3
   },
   "file_extension": ".py",
   "mimetype": "text/x-python",
   "name": "python",
   "nbconvert_exporter": "python",
   "pygments_lexer": "ipython3",
   "version": "3.10.0"
  }
 },
 "nbformat": 4,
 "nbformat_minor": 5
}
